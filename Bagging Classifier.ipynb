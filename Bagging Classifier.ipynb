{
 "cells": [
  {
   "cell_type": "markdown",
   "metadata": {},
   "source": [
    "### HYBRID MODEL"
   ]
  },
  {
   "cell_type": "code",
   "execution_count": 1,
   "metadata": {},
   "outputs": [],
   "source": [
    "import pickle as pkl\n",
    "import pandas as pd"
   ]
  },
  {
   "cell_type": "code",
   "execution_count": 2,
   "metadata": {},
   "outputs": [],
   "source": [
    "class ClassificationModel:\n",
    "    \n",
    "    def __init__(self):\n",
    "        \n",
    "        self.models = []\n",
    "        self.models.append(pkl.load(open(\"./Models/rfc.pkl\", \"rb\")))\n",
    "        self.models.append(pkl.load(open(\"./Models/svm.pkl\", \"rb\")))\n",
    "        self.models.append(pkl.load(open(\"./Models/catboost.pkl\", \"rb\")))\n",
    "        self.models.append(pkl.load(open(\"./Models/naive_bayes.pkl\", \"rb\")))\n",
    "    \n",
    "    def predict(self, data):\n",
    "        \n",
    "        results = {\n",
    "            0:0,\n",
    "            1:0\n",
    "        }\n",
    "        \n",
    "        for model in self.models:\n",
    "            \n",
    "            results[model.predict(data)[0]] += 1\n",
    "        \n",
    "        value, key = max(zip(results.values(), results.keys()))\n",
    "        \n",
    "        print(\"Yes\") if key == 1 else print(\"No\")\n",
    "        \n",
    "        \n",
    "        "
   ]
  },
  {
   "cell_type": "code",
   "execution_count": 3,
   "metadata": {},
   "outputs": [],
   "source": [
    "data = pd.read_csv(\"./Datasets/data.csv\")"
   ]
  },
  {
   "cell_type": "code",
   "execution_count": 4,
   "metadata": {},
   "outputs": [],
   "source": [
    "model = ClassificationModel()"
   ]
  },
  {
   "cell_type": "code",
   "execution_count": 5,
   "metadata": {},
   "outputs": [
    {
     "name": "stdout",
     "output_type": "stream",
     "text": [
      "Yes\n"
     ]
    }
   ],
   "source": [
    "model.predict(data.drop(\"Placed\", axis=1)[2:3])"
   ]
  },
  {
   "cell_type": "code",
   "execution_count": null,
   "metadata": {},
   "outputs": [],
   "source": []
  }
 ],
 "metadata": {
  "kernelspec": {
   "display_name": "Python 3",
   "language": "python",
   "name": "python3"
  },
  "language_info": {
   "codemirror_mode": {
    "name": "ipython",
    "version": 3
   },
   "file_extension": ".py",
   "mimetype": "text/x-python",
   "name": "python",
   "nbconvert_exporter": "python",
   "pygments_lexer": "ipython3",
   "version": "3.8.5"
  }
 },
 "nbformat": 4,
 "nbformat_minor": 4
}
