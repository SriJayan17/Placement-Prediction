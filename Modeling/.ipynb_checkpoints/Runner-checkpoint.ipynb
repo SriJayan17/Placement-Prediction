{
 "cells": [
  {
   "cell_type": "code",
   "execution_count": 1,
   "metadata": {},
   "outputs": [
    {
     "name": "stdout",
     "output_type": "stream",
     "text": [
      "importing Jupyter notebook from MetaModel.ipynb\n",
      "importing Jupyter notebook from Neural_Net.ipynb\n"
     ]
    }
   ],
   "source": [
    "import import_ipynb\n",
    "from MetaModel import Plazio\n",
    "import numpy as np"
   ]
  },
  {
   "cell_type": "code",
   "execution_count": 2,
   "metadata": {},
   "outputs": [
    {
     "name": "stdout",
     "output_type": "stream",
     "text": [
      "Welcome! am Plazio, the placement prediction wizard!\n",
      "Tell me about yourself so that i can tell if you'll get placed in a company..\n"
     ]
    }
   ],
   "source": [
    "print('Welcome! am Plazio, the placement prediction wizard!\\nTell me about yourself so that i can tell if you\\'ll get placed in a company..')\n",
    "detail_tray = [[]]"
   ]
  },
  {
   "cell_type": "code",
   "execution_count": 3,
   "metadata": {},
   "outputs": [],
   "source": [
    "def get_score(name_of_score):\n",
    "    while True:\n",
    "        score = int(input(f'Enter your {name_of_score} score: '))\n",
    "        if 0 <= score <= 100:\n",
    "            return score\n",
    "        else: print('The score must be between 0 and 100. Try again!')\n",
    "\n",
    "def degree_enquiry(degree):\n",
    "    while True:\n",
    "        ans = input(f'Have you completed/pursuing a {degree} degree? ').lower()\n",
    "        ans = ans.lower()\n",
    "        if ans == \"yes\": return 1\n",
    "        elif ans == 'no': return 0\n",
    "        else: print('Enter a valid answer(yes/no)! Try again!')"
   ]
  },
  {
   "cell_type": "code",
   "execution_count": 4,
   "metadata": {},
   "outputs": [
    {
     "name": "stdout",
     "output_type": "stream",
     "text": [
      "Enter your aptitude score: 23\n",
      "Enter your english score: 13\n",
      "Enter your quantitative analysis score: 24\n",
      "Enter your analytics score: 34\n",
      "Enter your domain knowledge score: 23\n",
      "Enter your computer fundamentals score: 45\n",
      "Enter your coding score: 10\n"
     ]
    }
   ],
   "source": [
    "apti_score = get_score('aptitude')\n",
    "detail_tray[0].append(apti_score)\n",
    "\n",
    "eng_score = get_score('english')\n",
    "detail_tray[0].append(eng_score)\n",
    "\n",
    "quant_score = get_score('quantitative analysis')\n",
    "detail_tray[0].append(quant_score)\n",
    "\n",
    "analyt_score = get_score('analytics')\n",
    "detail_tray[0].append(analyt_score)\n",
    "\n",
    "dom_score = get_score('domain knowledge')\n",
    "detail_tray[0].append(dom_score)\n",
    "\n",
    "comp_score = get_score('computer fundamentals')\n",
    "detail_tray[0].append(comp_score)\n",
    "\n",
    "code_score = get_score('coding')\n",
    "detail_tray[0].append(code_score)"
   ]
  },
  {
   "cell_type": "code",
   "execution_count": 5,
   "metadata": {
    "scrolled": true
   },
   "outputs": [
    {
     "name": "stdout",
     "output_type": "stream",
     "text": [
      "0 : Agricultural Engineering\n",
      "1 : Applied Electronics and Instrumentation\n",
      "2 : Automobile Engineering\n",
      "3 : Civil Engineering\n",
      "4 : Computer Science Engineering\n",
      "5 : Electrical Engineering\n",
      "6 : Electrical and Electronics Engineering\n",
      "7 : Electronics and Communications Engineering\n",
      "8 : Electronics and Instrumentation Engineering\n",
      "9 : Information Technology\n",
      "10 : Instrumentation and Control Engineering\n",
      "11 : MCA\n",
      "12 : Mechanical Engineering\n",
      "Choose the appropriate index based on your branch from the above options: 0\n"
     ]
    }
   ],
   "source": [
    "depts = [\n",
    "    'Agricultural Engineering',\n",
    "    \"Applied Electronics and Instrumentation\",\n",
    "    'Automobile Engineering',\n",
    "    'Civil Engineering',\n",
    "    'Computer Science Engineering',\n",
    "    'Electrical Engineering',\n",
    "    'Electrical and Electronics Engineering',\n",
    "    'Electronics and Communications Engineering',\n",
    "    'Electronics and Instrumentation Engineering',\n",
    "    'Information Technology',\n",
    "    'Instrumentation and Control Engineering',\n",
    "    'MCA',\n",
    "    'Mechanical Engineering',\n",
    "]\n",
    "\n",
    "for i in range(len(depts)):\n",
    "    print(f'{i} : {depts[i]}')\n",
    "\n",
    "while True:\n",
    "    dept = int(input('Choose the appropriate index based on your branch from the above options: '))\n",
    "    if 0 <= dept < len(depts):\n",
    "        break\n",
    "    else:\n",
    "        print('Choose a valid option! Try Again!')\n",
    "\n",
    "temp = [0] * len(depts)\n",
    "temp[dept] = 1\n",
    "\n",
    "detail_tray[0].extend(temp)"
   ]
  },
  {
   "cell_type": "code",
   "execution_count": 6,
   "metadata": {},
   "outputs": [
    {
     "name": "stdout",
     "output_type": "stream",
     "text": [
      "Have you completed/pursuing a B.E. degree? yes\n",
      "Have you completed/pursuing a B.Tech. degree? no\n",
      "Have you completed/pursuing a M.Tech. degree? no\n",
      "Have you completed/pursuing a MCA degree? no\n"
     ]
    }
   ],
   "source": [
    "detail_tray[0].append(degree_enquiry('B.E.'))\n",
    "detail_tray[0].append(degree_enquiry('B.Tech.'))\n",
    "detail_tray[0].append(degree_enquiry('M.Tech.'))\n",
    "detail_tray[0].append(degree_enquiry('MCA'))"
   ]
  },
  {
   "cell_type": "code",
   "execution_count": 7,
   "metadata": {},
   "outputs": [
    {
     "name": "stdout",
     "output_type": "stream",
     "text": [
      "(1, 24)\n",
      "You should work a bit harder to get placed\n",
      "Visit the website: https://practice.geeksforgeeks.org/courses/complete-interview-preparation\n"
     ]
    }
   ],
   "source": [
    "detail_tray = np.array(detail_tray)\n",
    "# print(detail_tray.shape)\n",
    "plazio = Plazio()\n",
    "plazio.predict(detail_tray)"
   ]
  },
  {
   "cell_type": "code",
   "execution_count": null,
   "metadata": {},
   "outputs": [],
   "source": []
  },
  {
   "cell_type": "code",
   "execution_count": null,
   "metadata": {},
   "outputs": [],
   "source": []
  }
 ],
 "metadata": {
  "kernelspec": {
   "display_name": "Python 3",
   "language": "python",
   "name": "python3"
  },
  "language_info": {
   "codemirror_mode": {
    "name": "ipython",
    "version": 3
   },
   "file_extension": ".py",
   "mimetype": "text/x-python",
   "name": "python",
   "nbconvert_exporter": "python",
   "pygments_lexer": "ipython3",
   "version": "3.8.5"
  }
 },
 "nbformat": 4,
 "nbformat_minor": 4
}
