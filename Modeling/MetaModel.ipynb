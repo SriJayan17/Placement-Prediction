{
 "cells": [
  {
   "cell_type": "markdown",
   "metadata": {},
   "source": [
    "### HYBRID MODEL"
   ]
  },
  {
   "cell_type": "code",
   "execution_count": 1,
   "metadata": {},
   "outputs": [
    {
     "name": "stdout",
     "output_type": "stream",
     "text": [
      "importing Jupyter notebook from Neural_Net.ipynb\n"
     ]
    }
   ],
   "source": [
    "import pickle as pkl\n",
    "import pandas as pd\n",
    "import import_ipynb\n",
    "import Neural_Net"
   ]
  },
  {
   "cell_type": "code",
   "execution_count": 2,
   "metadata": {},
   "outputs": [],
   "source": [
    "class Plazio:\n",
    "    \n",
    "    def __init__(self):\n",
    "        self.models = []\n",
    "        self.models.append(pkl.load(open(\"../Models/rfc.pkl\", \"rb\")))\n",
    "        self.models.append(pkl.load(open(\"../Models/svm.pkl\", \"rb\")))\n",
    "#         self.models.append(pkl.load(open(\"../Models/catboost.pkl\", \"rb\")))\n",
    "        self.models.append(pkl.load(open(\"../Models/naive_bayes.pkl\", \"rb\")))\n",
    "        self.models.append(Neural_Net.Model(24,1,learning_rate=0.01))\n",
    "    \n",
    "    def predict(self, data):\n",
    "        results = {\n",
    "            0:0,\n",
    "            1:0\n",
    "        }\n",
    "        for model in self.models:\n",
    "#             result = model.predict(data)[0]\n",
    "#             print(model.predict(data))\n",
    "            results[model.predict(data)[0]] += 1\n",
    "        value, key = max(zip(results.values(), results.keys()))\n",
    "        if key == 1:\n",
    "            print('Woohoo! You are going to be placed in a good company! Good luck for you!')\n",
    "            print('Get your profile ready on LinkedIn: https://in.linkedin.com/')\n",
    "            print(':)')\n",
    "        else: \n",
    "            print(\"You should work a bit harder to get placed\")\n",
    "            print('Visit the website: https://practice.geeksforgeeks.org/courses/complete-interview-preparation')"
   ]
  },
  {
   "cell_type": "code",
   "execution_count": 3,
   "metadata": {},
   "outputs": [
    {
     "name": "stdout",
     "output_type": "stream",
     "text": [
      "Yes\n"
     ]
    }
   ],
   "source": [
    "if __name__ == '__main__':\n",
    "    data = pd.read_csv(\"../Datasets/data.csv\")\n",
    "    Y = data['Placed'].values\n",
    "    del data['Placed']\n",
    "    X = data.values\n",
    "\n",
    "    model = Plazio()\n",
    "    model.predict(X[100:101])"
   ]
  },
  {
   "cell_type": "code",
   "execution_count": null,
   "metadata": {},
   "outputs": [],
   "source": []
  },
  {
   "cell_type": "code",
   "execution_count": null,
   "metadata": {},
   "outputs": [],
   "source": []
  }
 ],
 "metadata": {
  "kernelspec": {
   "display_name": "Python 3",
   "language": "python",
   "name": "python3"
  },
  "language_info": {
   "codemirror_mode": {
    "name": "ipython",
    "version": 3
   },
   "file_extension": ".py",
   "mimetype": "text/x-python",
   "name": "python",
   "nbconvert_exporter": "python",
   "pygments_lexer": "ipython3",
   "version": "3.8.5"
  }
 },
 "nbformat": 4,
 "nbformat_minor": 4
}
